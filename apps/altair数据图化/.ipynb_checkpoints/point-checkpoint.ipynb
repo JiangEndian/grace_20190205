{
 "cells": [
  {
   "cell_type": "code",
   "execution_count": 1,
   "metadata": {},
   "outputs": [
    {
     "name": "stdout",
     "output_type": "stream",
     "text": [
      "  name  age  grade\n",
      "0    江    1    100\n",
      "1    飞    2     60\n"
     ]
    }
   ],
   "source": [
    "import altair as alt\n",
    "\n",
    "from vega_datasets import data\n",
    "cars = data.cars()\n",
    "\n",
    "import pandas as pd #这里有DataFrame，就是数据集,得到的cars就是这个\n",
    "import numpy as np #和楼上常配合使用\n",
    "\n",
    "#然后可以用字典创建数据集合\n",
    "my_data_dict = {'name':['江','飞'],\n",
    "                'age':[1, 2],\n",
    "                'grade':[100,60]}\n",
    "my_data_df = pd.DataFrame(my_data_dict)\n",
    "\n",
    "#print(my_data_df) #就是这种类型的，每行有这么多列(name,age,grade)个数据\n",
    "#   name  age  grade\n",
    "#0    江    1    100\n",
    "#1    飞    2     60\n",
    "\n",
    "#用自己上面生成的数据来生成个线图。。。\n",
    "#alt.Chart(my_data_df).mark_line().encode(x='age',y='grade')\n",
    "\n",
    "#以汽车的耗油量为例，把所有汽车的数据绘制成一个一维散点图，指定x轴为耗油量：\n",
    "#alt.Chart(cars).mark_point().encode(x='Miles_per_Gallon')\n",
    "\n",
    "#但是使用mark_point()会让所有标记点混杂在一起，为了让图像更清晰，可以替换成棒状标记点mark_tick()：\n",
    "#alt.Chart(cars).mark_tick().encode(x='Miles_per_Gallon')\n",
    "\n",
    "#以耗油量为X轴、马力为Y轴，绘制所有汽车的分布，就得到一张二维图像：\n",
    "#alt.Chart(cars).mark_line().encode(x='Miles_per_Gallon',y='Horsepower')\n",
    "\n",
    "#给不同组的数据分配不同的颜色，就相当于给数据增加了第三个维度。\n",
    "#alt.Chart(cars).mark_point().encode(x='Miles_per_Gallon',y='Horsepower',color='Origin')\n",
    "\n",
    "#我们还能实现对连续变量的上色，比如在上图中加入“加速度”维度，颜色越深表示加速度越大：\n",
    "#alt.Chart(cars).mark_point().encode(x='Miles_per_Gallon',y='Horsepower',color='Acceleration')\n",
    "\n",
    "#例如统计不同油耗区间的汽车数量，对X轴使用alt.X()，指定数据和间隔大小，对Y轴使用count()统计数量。\n",
    "#alt.Chart(cars).mark_bar().encode(x=alt.X('Miles_per_Gallon', bin=alt.Bin(maxbins=30)),y='count()')\n",
    "\n",
    "#为了分别表示出不同原产国汽车的油耗分布，前文提到的上色方法也能直方图中使用，这样就构成一幅分段的统计直方图：\n",
    "#alt.Chart(cars).mark_bar().encode(x=alt.X('Miles_per_Gallon', bin=alt.Bin(maxbins=30)),y='count()',color='Origin')\n",
    "\n",
    "#如果你觉得上图还不够直观，那么可以用column将汽车按不同原产国分列成3张直方图：\n",
    "#alt.Chart(cars).mark_bar().encode(x=alt.X('Miles_per_Gallon', bin=alt.Bin(maxbins=30)),y='count()',color='Origin',column='Origin')\n",
    "\n",
    "\n"
   ]
  },
  {
   "cell_type": "code",
   "execution_count": null,
   "metadata": {},
   "outputs": [],
   "source": []
  }
 ],
 "metadata": {
  "kernelspec": {
   "display_name": "Python 3",
   "language": "python",
   "name": "python3"
  },
  "language_info": {
   "codemirror_mode": {
    "name": "ipython",
    "version": 3
   },
   "file_extension": ".py",
   "mimetype": "text/x-python",
   "name": "python",
   "nbconvert_exporter": "python",
   "pygments_lexer": "ipython3",
   "version": "3.6.7"
  }
 },
 "nbformat": 4,
 "nbformat_minor": 2
}
